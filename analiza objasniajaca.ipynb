{
 "cells": [
  {
   "cell_type": "markdown",
   "id": "3f03568a",
   "metadata": {},
   "source": [
    "# Analiza objaśniająca i storytelling\n",
    "## Autor: Mateusz Jagoda\n",
    "\n",
    "\n",
    "## Opis problemu i cel \n",
    "\n",
    "W niniejszym zeszycie przeprowadzono kompletną analizę zbioru danych."
   ]
  },
  {
   "cell_type": "markdown",
   "id": "3a959e3a",
   "metadata": {},
   "source": [
    "## Przegląd danych i przygotowanie do analizy\n",
    "\n",
    "\n",
    "W ramach projektu dokonano analizy zbioru danych \"StudentsPerformance\". Zbiór ten opisano, po czym sporządzono 4 rodzaje wykresów wraz z komentarzami oraz podsumowanie analizy."
   ]
  },
  {
   "cell_type": "code",
   "execution_count": 152,
   "id": "c40c9d5b",
   "metadata": {
    "scrolled": false
   },
   "outputs": [
    {
     "data": {
      "text/html": [
       "<div>\n",
       "<style scoped>\n",
       "    .dataframe tbody tr th:only-of-type {\n",
       "        vertical-align: middle;\n",
       "    }\n",
       "\n",
       "    .dataframe tbody tr th {\n",
       "        vertical-align: top;\n",
       "    }\n",
       "\n",
       "    .dataframe thead th {\n",
       "        text-align: right;\n",
       "    }\n",
       "</style>\n",
       "<table border=\"1\" class=\"dataframe\">\n",
       "  <thead>\n",
       "    <tr style=\"text-align: right;\">\n",
       "      <th></th>\n",
       "      <th>gender</th>\n",
       "      <th>race/ethnicity</th>\n",
       "      <th>parental level of education</th>\n",
       "      <th>lunch</th>\n",
       "      <th>test preparation course</th>\n",
       "      <th>math score</th>\n",
       "      <th>reading score</th>\n",
       "      <th>writing score</th>\n",
       "    </tr>\n",
       "  </thead>\n",
       "  <tbody>\n",
       "    <tr>\n",
       "      <th>0</th>\n",
       "      <td>female</td>\n",
       "      <td>group B</td>\n",
       "      <td>bachelor's degree</td>\n",
       "      <td>standard</td>\n",
       "      <td>none</td>\n",
       "      <td>72</td>\n",
       "      <td>72</td>\n",
       "      <td>74</td>\n",
       "    </tr>\n",
       "    <tr>\n",
       "      <th>1</th>\n",
       "      <td>female</td>\n",
       "      <td>group C</td>\n",
       "      <td>some college</td>\n",
       "      <td>standard</td>\n",
       "      <td>completed</td>\n",
       "      <td>69</td>\n",
       "      <td>90</td>\n",
       "      <td>88</td>\n",
       "    </tr>\n",
       "    <tr>\n",
       "      <th>2</th>\n",
       "      <td>female</td>\n",
       "      <td>group B</td>\n",
       "      <td>master's degree</td>\n",
       "      <td>standard</td>\n",
       "      <td>none</td>\n",
       "      <td>90</td>\n",
       "      <td>95</td>\n",
       "      <td>93</td>\n",
       "    </tr>\n",
       "    <tr>\n",
       "      <th>3</th>\n",
       "      <td>male</td>\n",
       "      <td>group A</td>\n",
       "      <td>associate's degree</td>\n",
       "      <td>free/reduced</td>\n",
       "      <td>none</td>\n",
       "      <td>47</td>\n",
       "      <td>57</td>\n",
       "      <td>44</td>\n",
       "    </tr>\n",
       "    <tr>\n",
       "      <th>4</th>\n",
       "      <td>male</td>\n",
       "      <td>group C</td>\n",
       "      <td>some college</td>\n",
       "      <td>standard</td>\n",
       "      <td>none</td>\n",
       "      <td>76</td>\n",
       "      <td>78</td>\n",
       "      <td>75</td>\n",
       "    </tr>\n",
       "    <tr>\n",
       "      <th>...</th>\n",
       "      <td>...</td>\n",
       "      <td>...</td>\n",
       "      <td>...</td>\n",
       "      <td>...</td>\n",
       "      <td>...</td>\n",
       "      <td>...</td>\n",
       "      <td>...</td>\n",
       "      <td>...</td>\n",
       "    </tr>\n",
       "    <tr>\n",
       "      <th>995</th>\n",
       "      <td>female</td>\n",
       "      <td>group E</td>\n",
       "      <td>master's degree</td>\n",
       "      <td>standard</td>\n",
       "      <td>completed</td>\n",
       "      <td>88</td>\n",
       "      <td>99</td>\n",
       "      <td>95</td>\n",
       "    </tr>\n",
       "    <tr>\n",
       "      <th>996</th>\n",
       "      <td>male</td>\n",
       "      <td>group C</td>\n",
       "      <td>high school</td>\n",
       "      <td>free/reduced</td>\n",
       "      <td>none</td>\n",
       "      <td>62</td>\n",
       "      <td>55</td>\n",
       "      <td>55</td>\n",
       "    </tr>\n",
       "    <tr>\n",
       "      <th>997</th>\n",
       "      <td>female</td>\n",
       "      <td>group C</td>\n",
       "      <td>high school</td>\n",
       "      <td>free/reduced</td>\n",
       "      <td>completed</td>\n",
       "      <td>59</td>\n",
       "      <td>71</td>\n",
       "      <td>65</td>\n",
       "    </tr>\n",
       "    <tr>\n",
       "      <th>998</th>\n",
       "      <td>female</td>\n",
       "      <td>group D</td>\n",
       "      <td>some college</td>\n",
       "      <td>standard</td>\n",
       "      <td>completed</td>\n",
       "      <td>68</td>\n",
       "      <td>78</td>\n",
       "      <td>77</td>\n",
       "    </tr>\n",
       "    <tr>\n",
       "      <th>999</th>\n",
       "      <td>female</td>\n",
       "      <td>group D</td>\n",
       "      <td>some college</td>\n",
       "      <td>free/reduced</td>\n",
       "      <td>none</td>\n",
       "      <td>77</td>\n",
       "      <td>86</td>\n",
       "      <td>86</td>\n",
       "    </tr>\n",
       "  </tbody>\n",
       "</table>\n",
       "<p>1000 rows × 8 columns</p>\n",
       "</div>"
      ],
      "text/plain": [
       "     gender race/ethnicity parental level of education         lunch  \\\n",
       "0    female        group B           bachelor's degree      standard   \n",
       "1    female        group C                some college      standard   \n",
       "2    female        group B             master's degree      standard   \n",
       "3      male        group A          associate's degree  free/reduced   \n",
       "4      male        group C                some college      standard   \n",
       "..      ...            ...                         ...           ...   \n",
       "995  female        group E             master's degree      standard   \n",
       "996    male        group C                 high school  free/reduced   \n",
       "997  female        group C                 high school  free/reduced   \n",
       "998  female        group D                some college      standard   \n",
       "999  female        group D                some college  free/reduced   \n",
       "\n",
       "    test preparation course  math score  reading score  writing score  \n",
       "0                      none          72             72             74  \n",
       "1                 completed          69             90             88  \n",
       "2                      none          90             95             93  \n",
       "3                      none          47             57             44  \n",
       "4                      none          76             78             75  \n",
       "..                      ...         ...            ...            ...  \n",
       "995               completed          88             99             95  \n",
       "996                    none          62             55             55  \n",
       "997               completed          59             71             65  \n",
       "998               completed          68             78             77  \n",
       "999                    none          77             86             86  \n",
       "\n",
       "[1000 rows x 8 columns]"
      ]
     },
     "execution_count": 152,
     "metadata": {},
     "output_type": "execute_result"
    }
   ],
   "source": [
    "import pandas as pd  \n",
    "import numpy as np\n",
    "import matplotlib.pyplot as plt\n",
    "import seaborn as sns\n",
    "import warnings\n",
    "warnings.filterwarnings('ignore')\n",
    "\n",
    "pd.options.mode.chained_assignment = None\n",
    "df = pd.read_csv('StudentsPerformance.csv',encoding = \"UTF-8\", header=0)\n",
    "df"
   ]
  },
  {
   "cell_type": "markdown",
   "id": "e06949fa",
   "metadata": {},
   "source": [
    "Zbiór ten składa się z 8 kolumn, o następującym znaczeniu:\n",
    "- gender - płeć\n",
    "- race/ethnicity - rasa/przynależność do grupy etnicznej\n",
    "- parental level of education - poziom edukacji rodziców\n",
    "- lunch - jaki rodzaj obiadu uczeń jadł w szkole (standardowy/okrojony)\n",
    "- test preparation course - czy uczeń ukończył kurs przygotowujący\n",
    "- math score - wynik z części z matematyki\n",
    "- reading score - wynik z części z czytania\n",
    "- writing score - wynik z części z pisania\n",
    "\n",
    "Kolumny te mają następujące typy. W żadnej z nich nie występują brakujące wartości.\n"
   ]
  },
  {
   "cell_type": "code",
   "execution_count": 153,
   "id": "62ffbc8b",
   "metadata": {
    "scrolled": false
   },
   "outputs": [
    {
     "name": "stdout",
     "output_type": "stream",
     "text": [
      "<class 'pandas.core.frame.DataFrame'>\n",
      "RangeIndex: 1000 entries, 0 to 999\n",
      "Data columns (total 8 columns):\n",
      " #   Column                       Non-Null Count  Dtype \n",
      "---  ------                       --------------  ----- \n",
      " 0   gender                       1000 non-null   object\n",
      " 1   race/ethnicity               1000 non-null   object\n",
      " 2   parental level of education  1000 non-null   object\n",
      " 3   lunch                        1000 non-null   object\n",
      " 4   test preparation course      1000 non-null   object\n",
      " 5   math score                   1000 non-null   int64 \n",
      " 6   reading score                1000 non-null   int64 \n",
      " 7   writing score                1000 non-null   int64 \n",
      "dtypes: int64(3), object(5)\n",
      "memory usage: 62.6+ KB\n"
     ]
    }
   ],
   "source": [
    "df.info()"
   ]
  },
  {
   "cell_type": "markdown",
   "id": "d446aa80",
   "metadata": {},
   "source": [
    "W kolumnach \"gender\", \"race/ethnicity\", \"parental level of education\", \"lunch\" i \"test preparation course\" występuje niewiele różnych wartości, dzięki czemu można je wszystkie wypisać."
   ]
  },
  {
   "cell_type": "code",
   "execution_count": 154,
   "id": "51aea7df",
   "metadata": {},
   "outputs": [
    {
     "data": {
      "text/plain": [
       "gender                          2\n",
       "race/ethnicity                  5\n",
       "parental level of education     6\n",
       "lunch                           2\n",
       "test preparation course         2\n",
       "math score                     81\n",
       "reading score                  72\n",
       "writing score                  77\n",
       "dtype: int64"
      ]
     },
     "execution_count": 154,
     "metadata": {},
     "output_type": "execute_result"
    }
   ],
   "source": [
    "df.nunique()"
   ]
  },
  {
   "cell_type": "code",
   "execution_count": 155,
   "id": "44cf2306",
   "metadata": {},
   "outputs": [
    {
     "name": "stdout",
     "output_type": "stream",
     "text": [
      "female    518\n",
      "male      482\n",
      "Name: gender, dtype: int64\n",
      "\n",
      "\n",
      "group C    319\n",
      "group D    262\n",
      "group B    190\n",
      "group E    140\n",
      "group A     89\n",
      "Name: race/ethnicity, dtype: int64\n",
      "\n",
      "\n",
      "some college          226\n",
      "associate's degree    222\n",
      "high school           196\n",
      "some high school      179\n",
      "bachelor's degree     118\n",
      "master's degree        59\n",
      "Name: parental level of education, dtype: int64\n",
      "\n",
      "\n",
      "standard        645\n",
      "free/reduced    355\n",
      "Name: lunch, dtype: int64\n",
      "\n",
      "\n",
      "none         642\n",
      "completed    358\n",
      "Name: test preparation course, dtype: int64\n",
      "\n",
      "\n"
     ]
    }
   ],
   "source": [
    "def printColumnUniqueValues(columnName):\n",
    "    print(df[columnName].value_counts())\n",
    "    print(\"\\n\")\n",
    "\n",
    "printColumnUniqueValues('gender')\n",
    "printColumnUniqueValues('race/ethnicity')\n",
    "printColumnUniqueValues('parental level of education')\n",
    "printColumnUniqueValues('lunch')\n",
    "printColumnUniqueValues('test preparation course')"
   ]
  },
  {
   "cell_type": "markdown",
   "id": "add01c6e",
   "metadata": {},
   "source": [
    "Dane można uznać więc za kompletne i niewymagające czyszczenia. W celu ułatwienia dalszej analizy dodano kolumnę \"average score\", będącą średnią pozostałych trzech wyników."
   ]
  },
  {
   "cell_type": "code",
   "execution_count": 156,
   "id": "95cbe133",
   "metadata": {},
   "outputs": [
    {
     "data": {
      "text/html": [
       "<div>\n",
       "<style scoped>\n",
       "    .dataframe tbody tr th:only-of-type {\n",
       "        vertical-align: middle;\n",
       "    }\n",
       "\n",
       "    .dataframe tbody tr th {\n",
       "        vertical-align: top;\n",
       "    }\n",
       "\n",
       "    .dataframe thead th {\n",
       "        text-align: right;\n",
       "    }\n",
       "</style>\n",
       "<table border=\"1\" class=\"dataframe\">\n",
       "  <thead>\n",
       "    <tr style=\"text-align: right;\">\n",
       "      <th></th>\n",
       "      <th>gender</th>\n",
       "      <th>race/ethnicity</th>\n",
       "      <th>parental level of education</th>\n",
       "      <th>lunch</th>\n",
       "      <th>test preparation course</th>\n",
       "      <th>math score</th>\n",
       "      <th>reading score</th>\n",
       "      <th>writing score</th>\n",
       "      <th>average score</th>\n",
       "    </tr>\n",
       "  </thead>\n",
       "  <tbody>\n",
       "    <tr>\n",
       "      <th>0</th>\n",
       "      <td>female</td>\n",
       "      <td>group B</td>\n",
       "      <td>bachelor's degree</td>\n",
       "      <td>standard</td>\n",
       "      <td>none</td>\n",
       "      <td>72</td>\n",
       "      <td>72</td>\n",
       "      <td>74</td>\n",
       "      <td>72.666667</td>\n",
       "    </tr>\n",
       "    <tr>\n",
       "      <th>1</th>\n",
       "      <td>female</td>\n",
       "      <td>group C</td>\n",
       "      <td>some college</td>\n",
       "      <td>standard</td>\n",
       "      <td>completed</td>\n",
       "      <td>69</td>\n",
       "      <td>90</td>\n",
       "      <td>88</td>\n",
       "      <td>82.333333</td>\n",
       "    </tr>\n",
       "    <tr>\n",
       "      <th>2</th>\n",
       "      <td>female</td>\n",
       "      <td>group B</td>\n",
       "      <td>master's degree</td>\n",
       "      <td>standard</td>\n",
       "      <td>none</td>\n",
       "      <td>90</td>\n",
       "      <td>95</td>\n",
       "      <td>93</td>\n",
       "      <td>92.666667</td>\n",
       "    </tr>\n",
       "    <tr>\n",
       "      <th>3</th>\n",
       "      <td>male</td>\n",
       "      <td>group A</td>\n",
       "      <td>associate's degree</td>\n",
       "      <td>free/reduced</td>\n",
       "      <td>none</td>\n",
       "      <td>47</td>\n",
       "      <td>57</td>\n",
       "      <td>44</td>\n",
       "      <td>49.333333</td>\n",
       "    </tr>\n",
       "    <tr>\n",
       "      <th>4</th>\n",
       "      <td>male</td>\n",
       "      <td>group C</td>\n",
       "      <td>some college</td>\n",
       "      <td>standard</td>\n",
       "      <td>none</td>\n",
       "      <td>76</td>\n",
       "      <td>78</td>\n",
       "      <td>75</td>\n",
       "      <td>76.333333</td>\n",
       "    </tr>\n",
       "    <tr>\n",
       "      <th>...</th>\n",
       "      <td>...</td>\n",
       "      <td>...</td>\n",
       "      <td>...</td>\n",
       "      <td>...</td>\n",
       "      <td>...</td>\n",
       "      <td>...</td>\n",
       "      <td>...</td>\n",
       "      <td>...</td>\n",
       "      <td>...</td>\n",
       "    </tr>\n",
       "    <tr>\n",
       "      <th>995</th>\n",
       "      <td>female</td>\n",
       "      <td>group E</td>\n",
       "      <td>master's degree</td>\n",
       "      <td>standard</td>\n",
       "      <td>completed</td>\n",
       "      <td>88</td>\n",
       "      <td>99</td>\n",
       "      <td>95</td>\n",
       "      <td>94.000000</td>\n",
       "    </tr>\n",
       "    <tr>\n",
       "      <th>996</th>\n",
       "      <td>male</td>\n",
       "      <td>group C</td>\n",
       "      <td>high school</td>\n",
       "      <td>free/reduced</td>\n",
       "      <td>none</td>\n",
       "      <td>62</td>\n",
       "      <td>55</td>\n",
       "      <td>55</td>\n",
       "      <td>57.333333</td>\n",
       "    </tr>\n",
       "    <tr>\n",
       "      <th>997</th>\n",
       "      <td>female</td>\n",
       "      <td>group C</td>\n",
       "      <td>high school</td>\n",
       "      <td>free/reduced</td>\n",
       "      <td>completed</td>\n",
       "      <td>59</td>\n",
       "      <td>71</td>\n",
       "      <td>65</td>\n",
       "      <td>65.000000</td>\n",
       "    </tr>\n",
       "    <tr>\n",
       "      <th>998</th>\n",
       "      <td>female</td>\n",
       "      <td>group D</td>\n",
       "      <td>some college</td>\n",
       "      <td>standard</td>\n",
       "      <td>completed</td>\n",
       "      <td>68</td>\n",
       "      <td>78</td>\n",
       "      <td>77</td>\n",
       "      <td>74.333333</td>\n",
       "    </tr>\n",
       "    <tr>\n",
       "      <th>999</th>\n",
       "      <td>female</td>\n",
       "      <td>group D</td>\n",
       "      <td>some college</td>\n",
       "      <td>free/reduced</td>\n",
       "      <td>none</td>\n",
       "      <td>77</td>\n",
       "      <td>86</td>\n",
       "      <td>86</td>\n",
       "      <td>83.000000</td>\n",
       "    </tr>\n",
       "  </tbody>\n",
       "</table>\n",
       "<p>1000 rows × 9 columns</p>\n",
       "</div>"
      ],
      "text/plain": [
       "     gender race/ethnicity parental level of education         lunch  \\\n",
       "0    female        group B           bachelor's degree      standard   \n",
       "1    female        group C                some college      standard   \n",
       "2    female        group B             master's degree      standard   \n",
       "3      male        group A          associate's degree  free/reduced   \n",
       "4      male        group C                some college      standard   \n",
       "..      ...            ...                         ...           ...   \n",
       "995  female        group E             master's degree      standard   \n",
       "996    male        group C                 high school  free/reduced   \n",
       "997  female        group C                 high school  free/reduced   \n",
       "998  female        group D                some college      standard   \n",
       "999  female        group D                some college  free/reduced   \n",
       "\n",
       "    test preparation course  math score  reading score  writing score  \\\n",
       "0                      none          72             72             74   \n",
       "1                 completed          69             90             88   \n",
       "2                      none          90             95             93   \n",
       "3                      none          47             57             44   \n",
       "4                      none          76             78             75   \n",
       "..                      ...         ...            ...            ...   \n",
       "995               completed          88             99             95   \n",
       "996                    none          62             55             55   \n",
       "997               completed          59             71             65   \n",
       "998               completed          68             78             77   \n",
       "999                    none          77             86             86   \n",
       "\n",
       "     average score  \n",
       "0        72.666667  \n",
       "1        82.333333  \n",
       "2        92.666667  \n",
       "3        49.333333  \n",
       "4        76.333333  \n",
       "..             ...  \n",
       "995      94.000000  \n",
       "996      57.333333  \n",
       "997      65.000000  \n",
       "998      74.333333  \n",
       "999      83.000000  \n",
       "\n",
       "[1000 rows x 9 columns]"
      ]
     },
     "execution_count": 156,
     "metadata": {},
     "output_type": "execute_result"
    }
   ],
   "source": [
    "df['average score']= df.mean(numeric_only=True, axis=1)\n",
    "df"
   ]
  },
  {
   "cell_type": "markdown",
   "id": "2c4462d9",
   "metadata": {},
   "source": [
    "Dla kolumn o wartościach numerycznych przedstawiono statystykę podsumowującą"
   ]
  },
  {
   "cell_type": "code",
   "execution_count": 157,
   "id": "880a3335",
   "metadata": {},
   "outputs": [
    {
     "data": {
      "text/html": [
       "<div>\n",
       "<style scoped>\n",
       "    .dataframe tbody tr th:only-of-type {\n",
       "        vertical-align: middle;\n",
       "    }\n",
       "\n",
       "    .dataframe tbody tr th {\n",
       "        vertical-align: top;\n",
       "    }\n",
       "\n",
       "    .dataframe thead th {\n",
       "        text-align: right;\n",
       "    }\n",
       "</style>\n",
       "<table border=\"1\" class=\"dataframe\">\n",
       "  <thead>\n",
       "    <tr style=\"text-align: right;\">\n",
       "      <th></th>\n",
       "      <th>math score</th>\n",
       "      <th>reading score</th>\n",
       "      <th>writing score</th>\n",
       "      <th>average score</th>\n",
       "    </tr>\n",
       "  </thead>\n",
       "  <tbody>\n",
       "    <tr>\n",
       "      <th>count</th>\n",
       "      <td>1000.00000</td>\n",
       "      <td>1000.000000</td>\n",
       "      <td>1000.000000</td>\n",
       "      <td>1000.000000</td>\n",
       "    </tr>\n",
       "    <tr>\n",
       "      <th>mean</th>\n",
       "      <td>66.08900</td>\n",
       "      <td>69.169000</td>\n",
       "      <td>68.054000</td>\n",
       "      <td>67.770667</td>\n",
       "    </tr>\n",
       "    <tr>\n",
       "      <th>std</th>\n",
       "      <td>15.16308</td>\n",
       "      <td>14.600192</td>\n",
       "      <td>15.195657</td>\n",
       "      <td>14.257326</td>\n",
       "    </tr>\n",
       "    <tr>\n",
       "      <th>min</th>\n",
       "      <td>0.00000</td>\n",
       "      <td>17.000000</td>\n",
       "      <td>10.000000</td>\n",
       "      <td>9.000000</td>\n",
       "    </tr>\n",
       "    <tr>\n",
       "      <th>25%</th>\n",
       "      <td>57.00000</td>\n",
       "      <td>59.000000</td>\n",
       "      <td>57.750000</td>\n",
       "      <td>58.333333</td>\n",
       "    </tr>\n",
       "    <tr>\n",
       "      <th>50%</th>\n",
       "      <td>66.00000</td>\n",
       "      <td>70.000000</td>\n",
       "      <td>69.000000</td>\n",
       "      <td>68.333333</td>\n",
       "    </tr>\n",
       "    <tr>\n",
       "      <th>75%</th>\n",
       "      <td>77.00000</td>\n",
       "      <td>79.000000</td>\n",
       "      <td>79.000000</td>\n",
       "      <td>77.666667</td>\n",
       "    </tr>\n",
       "    <tr>\n",
       "      <th>max</th>\n",
       "      <td>100.00000</td>\n",
       "      <td>100.000000</td>\n",
       "      <td>100.000000</td>\n",
       "      <td>100.000000</td>\n",
       "    </tr>\n",
       "  </tbody>\n",
       "</table>\n",
       "</div>"
      ],
      "text/plain": [
       "       math score  reading score  writing score  average score\n",
       "count  1000.00000    1000.000000    1000.000000    1000.000000\n",
       "mean     66.08900      69.169000      68.054000      67.770667\n",
       "std      15.16308      14.600192      15.195657      14.257326\n",
       "min       0.00000      17.000000      10.000000       9.000000\n",
       "25%      57.00000      59.000000      57.750000      58.333333\n",
       "50%      66.00000      70.000000      69.000000      68.333333\n",
       "75%      77.00000      79.000000      79.000000      77.666667\n",
       "max     100.00000     100.000000     100.000000     100.000000"
      ]
     },
     "execution_count": 157,
     "metadata": {},
     "output_type": "execute_result"
    }
   ],
   "source": [
    "df.describe()"
   ]
  },
  {
   "cell_type": "markdown",
   "id": "30e61008",
   "metadata": {},
   "source": [
    "## Analiza danych"
   ]
  },
  {
   "cell_type": "markdown",
   "id": "78ac998d",
   "metadata": {},
   "source": [
    "Analizę danych rozpoczęto od stworzenia macierzy korelacji"
   ]
  },
  {
   "cell_type": "code",
   "execution_count": 158,
   "id": "770d3ad3",
   "metadata": {},
   "outputs": [
    {
     "data": {
      "text/html": [
       "<div>\n",
       "<style scoped>\n",
       "    .dataframe tbody tr th:only-of-type {\n",
       "        vertical-align: middle;\n",
       "    }\n",
       "\n",
       "    .dataframe tbody tr th {\n",
       "        vertical-align: top;\n",
       "    }\n",
       "\n",
       "    .dataframe thead th {\n",
       "        text-align: right;\n",
       "    }\n",
       "</style>\n",
       "<table border=\"1\" class=\"dataframe\">\n",
       "  <thead>\n",
       "    <tr style=\"text-align: right;\">\n",
       "      <th></th>\n",
       "      <th>math score</th>\n",
       "      <th>reading score</th>\n",
       "      <th>writing score</th>\n",
       "      <th>average score</th>\n",
       "    </tr>\n",
       "  </thead>\n",
       "  <tbody>\n",
       "    <tr>\n",
       "      <th>math score</th>\n",
       "      <td>1.000000</td>\n",
       "      <td>0.817580</td>\n",
       "      <td>0.802642</td>\n",
       "      <td>0.918746</td>\n",
       "    </tr>\n",
       "    <tr>\n",
       "      <th>reading score</th>\n",
       "      <td>0.817580</td>\n",
       "      <td>1.000000</td>\n",
       "      <td>0.954598</td>\n",
       "      <td>0.970331</td>\n",
       "    </tr>\n",
       "    <tr>\n",
       "      <th>writing score</th>\n",
       "      <td>0.802642</td>\n",
       "      <td>0.954598</td>\n",
       "      <td>1.000000</td>\n",
       "      <td>0.965667</td>\n",
       "    </tr>\n",
       "    <tr>\n",
       "      <th>average score</th>\n",
       "      <td>0.918746</td>\n",
       "      <td>0.970331</td>\n",
       "      <td>0.965667</td>\n",
       "      <td>1.000000</td>\n",
       "    </tr>\n",
       "  </tbody>\n",
       "</table>\n",
       "</div>"
      ],
      "text/plain": [
       "               math score  reading score  writing score  average score\n",
       "math score       1.000000       0.817580       0.802642       0.918746\n",
       "reading score    0.817580       1.000000       0.954598       0.970331\n",
       "writing score    0.802642       0.954598       1.000000       0.965667\n",
       "average score    0.918746       0.970331       0.965667       1.000000"
      ]
     },
     "execution_count": 158,
     "metadata": {},
     "output_type": "execute_result"
    }
   ],
   "source": [
    "df.corr()"
   ]
  },
  {
   "cell_type": "markdown",
   "id": "6799cb7e",
   "metadata": {},
   "source": [
    "Wyniki z poszczególnych testów są ze sobą mocno powiązane - można więc wysnuć wniosek, że zwykle uczeń jest albo we wszystkim dość dobry albo we wszystkim kiepski.\n",
    " \n",
    "Na wykresach przedstawiono rozkład wyników z poszczególnych przedmiotów."
   ]
  },
  {
   "cell_type": "code",
   "execution_count": 159,
   "id": "ad805a2e",
   "metadata": {},
   "outputs": [
    {
     "data": {
      "image/png": "[encoded data removed]",
      "text/plain": [
       "<Figure size 432x288 with 1 Axes>"
      ]
     },
     "metadata": {
      "needs_background": "light"
     },
     "output_type": "display_data"
    },
    {
     "data": {
      "image/png": "[encoded data removed]",
      "text/plain": [
       "<Figure size 432x288 with 1 Axes>"
      ]
     },
     "metadata": {
      "needs_background": "light"
     },
     "output_type": "display_data"
    },
    {
     "data": {
      "image/png": "[encoded data removed]",
      "text/plain": [
       "<Figure size 432x288 with 1 Axes>"
      ]
     },
     "metadata": {
      "needs_background": "light"
     },
     "output_type": "display_data"
    }
   ],
   "source": [
    "def printSubjectHistogram(columnName):\n",
    "    plt.hist(df[columnName])\n",
    "    plt.xlabel('Liczba uczniow')\n",
    "    plt.ylabel('Wynik')\n",
    "    plt.title(columnName)\n",
    "    plt.show()\n",
    "\n",
    "printSubjectHistogram('math score')\n",
    "printSubjectHistogram('reading score')\n",
    "printSubjectHistogram('writing score')\n",
    "\n"
   ]
  },
  {
   "cell_type": "markdown",
   "id": "5cfdacec",
   "metadata": {},
   "source": [
    "Wyniki ze wszystkich przedmiotów mają rozkład zbliżony do normalnego. Najlepsze wyniki uczniowie otrzymali z testu z pisania, w którym najbardziej liczna grupą okazała się grupa o wynikach pomiędzy 70 i 80.\n",
    "\n",
    " \n",
    "Następnie przedstawiono zależność wyników testów od rodzaju obiadu spożywanego w szkole, rasy i płci."
   ]
  },
  {
   "cell_type": "code",
   "execution_count": 160,
   "id": "c0745a6e",
   "metadata": {},
   "outputs": [
    {
     "data": {
      "image/png": "[encoded data removed]",
      "text/plain": [
       "<Figure size 432x288 with 1 Axes>"
      ]
     },
     "metadata": {
      "needs_background": "light"
     },
     "output_type": "display_data"
    },
    {
     "data": {
      "image/png": "[encoded data removed]",
      "text/plain": [
       "<Figure size 432x288 with 1 Axes>"
      ]
     },
     "metadata": {
      "needs_background": "light"
     },
     "output_type": "display_data"
    },
    {
     "data": {
      "image/png": "[encoded data removed]",
      "text/plain": [
       "<Figure size 432x288 with 1 Axes>"
      ]
     },
     "metadata": {
      "needs_background": "light"
     },
     "output_type": "display_data"
    }
   ],
   "source": [
    "sns.boxplot(data = df, x = \"lunch\", y = \"average score\")\n",
    "plt.ylabel(\"Sredni wynik\")\n",
    "plt.title(\"Wplyw obiadu na sredni wynik\")\n",
    "plt.show()\n",
    "sns.boxplot(data = df, x = \"race/ethnicity\", y = \"average score\")\n",
    "plt.ylabel(\"Sredni wynik\")\n",
    "plt.title(\"Wplyw rasy na sredni wynik\")\n",
    "plt.show()\n",
    "sns.boxplot(data = df, x = \"gender\", y = \"average score\")\n",
    "plt.ylabel(\"Sredni wynik\")\n",
    "plt.title(\"Wplyw plci na sredni wynik\")\n",
    "plt.show()"
   ]
  },
  {
   "cell_type": "markdown",
   "id": "ecf2ff6f",
   "metadata": {},
   "source": [
    "Wykresy ukazują, że dzieci, które jadły w szkole pełny obiad miały dużo większe szanse na osiągnięcie dobrych wyników. W przypadku ras, grupa A uzyskuje najlepsze wyniki, a grupa E najsłabsze. Dziewczynki zdobywały średnio lepsze wyniki niż chłopcy.\n",
    "\n",
    "Następnie przedstawiono jak prezentowały się wyniki w czytaniu i pisaniu zależnie od wykształcenia rodziców."
   ]
  },
  {
   "cell_type": "code",
   "execution_count": 161,
   "id": "272613c7",
   "metadata": {
    "scrolled": false
   },
   "outputs": [
    {
     "data": {
      "image/png": "[encoded data removed]",
      "text/plain": [
       "<Figure size 1296x1296 with 1 Axes>"
      ]
     },
     "metadata": {
      "needs_background": "light"
     },
     "output_type": "display_data"
    }
   ],
   "source": [
    "somecol = df[df[\"parental level of education\"]  == \"some college\"]\n",
    "associate = df[df[\"parental level of education\"]  == \"associate's degree\"]\n",
    "highschool = df[df[\"parental level of education\"]  == \"high school\"]\n",
    "somehighschool = df[df[\"parental level of education\"]  == \"some high school\"]\n",
    "bachelor = df[df[\"parental level of education\"]  == \"bachelor's degree\"]\n",
    "master = df[df[\"parental level of education\"]  == \"master's degree\"]\n",
    "\n",
    "plt.figure(figsize=(18, 18))\n",
    "\n",
    "sc=plt.scatter(somecol['reading score'],somecol['math score'],color='red', alpha=0.7)\n",
    "ass=plt.scatter(associate['reading score'],associate['math score'],color='green', alpha=0.7)\n",
    "hi=plt.scatter(highschool['reading score'],highschool['math score'],color='blue', alpha=0.7)\n",
    "sh=plt.scatter(somehighschool['reading score'],somehighschool['math score'],color='yellow', alpha=0.7)\n",
    "ba=plt.scatter(bachelor['reading score'],bachelor['math score'],color='magenta', alpha=0.7)\n",
    "ma=plt.scatter(master['reading score'],master['math score'],color='purple', alpha=0.7)\n",
    "\n",
    "plt.legend((sc, ass, hi, sh, ba, ma),\n",
    "           ('some college', 'associates degree', 'high school', 'some high school', 'bachelors degree', 'masters degree'),\n",
    "           scatterpoints=1,\n",
    "           loc='lower left',\n",
    "           ncol=3,\n",
    "           fontsize=8)\n",
    "plt.title(\"Wyniki z czytania i pisania zależnie od przynależności etnicznej\")\n",
    "plt.show()\n"
   ]
  },
  {
   "cell_type": "markdown",
   "id": "79ac4d5b",
   "metadata": {},
   "source": [
    "Z wykresu wyczytać można, że dzieci rodziców, którzy ukończyli studia, bądź chociaż studiowali przez pewien czas, osiągały lepsze wyniki niż dzieci rodziców o słabszej edukacji.\n",
    "\n",
    "Ostatni krok analizy polegał na przygotowaniu wykresów ukazujących związek przystąpienia do kursu przygotowującego, rodzaju obiadu jedzonego w szkole i przynależności etnicznej."
   ]
  },
  {
   "cell_type": "code",
   "execution_count": 162,
   "id": "8ae99a28",
   "metadata": {},
   "outputs": [
    {
     "data": {
      "image/png": "[encoded data removed]",
      "text/plain": [
       "<Figure size 864x432 with 4 Axes>"
      ]
     },
     "metadata": {
      "needs_background": "light"
     },
     "output_type": "display_data"
    }
   ],
   "source": [
    "g = sns.FacetGrid(data = df, row=\"lunch\", col = \"test preparation course\", height = 3,aspect=2,  margin_titles=True);\n",
    "g.map(sns.barplot, \"average score\", \"race/ethnicity\");\n",
    "g.set_axis_labels(\"Sredni wynik\");"
   ]
  },
  {
   "cell_type": "markdown",
   "id": "3241938a",
   "metadata": {},
   "source": [
    "Z wykresów wyczytać można, że niezależnie od przynależności etnicznej, zdecydowanie najlepiej radziły sobie w testach dzieci, które przystąpiły do kursu przygotowawczego i jadły pełne obiady. Spośród tych dwóch parametrów to kurs przygotowawczy mocniej poprawiał wyniki uczniów."
   ]
  },
  {
   "cell_type": "markdown",
   "id": "b95b305a",
   "metadata": {},
   "source": [
    "## Podsumowanie\n",
    " \n",
    " \n",
    "Zjawiska zaobserwowane w ramach zbioru \"StudentsPerformance\" są następujące:\n",
    "- Wyniki ze wszystkich testów miały podobny rozkład, największa grupa uczniów osiągnęła wyniki z przedziału 60-80\n",
    "- Niektóre grupy etniczne radzą sobie lepiej niż inne\n",
    "- Dziewczynki osiągają średnio lepsze wyniki niż chłopcy\n",
    "- Dzieci lepiej wyedukowanych rodziców osiągały lepsze wyniki\n",
    "\n",
    "Dalej idącą hipotezą, jaką można by wysnuć z analizy, jest powiązanie zamożności z wynikami egzaminów - najprawdopodobniej to właśnie ludzie zamożni są wyedukowani, mają możliwość wysłania dziecka na kurs lub zagwarantowania lepszego wyżywienia. Hipotezę tę można by potwierdzić lub wykluczyć mając na przykład dane przedstawiające zamożność w każdej z grup etnicznych."
   ]
  }
 ],
 "metadata": {
  "kernelspec": {
   "display_name": "Python 3",
   "language": "python",
   "name": "python3"
  },
  "language_info": {
   "codemirror_mode": {
    "name": "ipython",
    "version": 3
   },
   "file_extension": ".py",
   "mimetype": "text/x-python",
   "name": "python",
   "nbconvert_exporter": "python",
   "pygments_lexer": "ipython3",
   "version": "3.6.13"
  }
 },
 "nbformat": 4,
 "nbformat_minor": 5
}
